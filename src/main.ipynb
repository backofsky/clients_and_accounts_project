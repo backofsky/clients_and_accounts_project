{
 "cells": [
  {
   "cell_type": "markdown",
   "id": "b5bbf157",
   "metadata": {},
   "source": [
    "## Проект № 4\n",
    "\n",
    "### Клиенты и счета"
   ]
  },
  {
   "cell_type": "markdown",
   "id": "f9b6e684",
   "metadata": {},
   "source": [
    "## Импортируем пакеты"
   ]
  },
  {
   "cell_type": "code",
   "execution_count": 1,
   "id": "f91ac950",
   "metadata": {},
   "outputs": [
    {
     "data": {
      "text/plain": [
       "Intitializing Scala interpreter ..."
      ]
     },
     "metadata": {},
     "output_type": "display_data"
    },
    {
     "data": {
      "text/plain": [
       "Spark Web UI available at http://146.120.224.166:4040\n",
       "SparkContext available as 'sc' (version = 3.3.1, master = local[*], app id = local-1677965036128)\n",
       "SparkSession available as 'spark'\n"
      ]
     },
     "metadata": {},
     "output_type": "display_data"
    },
    {
     "data": {
      "text/plain": [
       "import org.apache.spark.sql.SparkSession\n",
       "import org.apache.spark.sql.types.{DataTypes, StructField}\n",
       "import org.apache.spark.sql.types._\n",
       "import org.apache.spark.sql.functions._\n",
       "import org.apache.spark.sql.functions.regexp_replace\n"
      ]
     },
     "execution_count": 1,
     "metadata": {},
     "output_type": "execute_result"
    }
   ],
   "source": [
    "import org.apache.spark.sql.SparkSession\n",
    "import org.apache.spark.sql.types.{DataTypes, StructField}\n",
    "import org.apache.spark.sql.types._\n",
    "import org.apache.spark.sql.functions._\n",
    "import org.apache.spark.sql.functions.regexp_replace"
   ]
  },
  {
   "cell_type": "markdown",
   "id": "68376f29",
   "metadata": {},
   "source": [
    "## Spark сессия"
   ]
  },
  {
   "cell_type": "code",
   "execution_count": 2,
   "id": "8cd8701c",
   "metadata": {},
   "outputs": [
    {
     "name": "stdout",
     "output_type": "stream",
     "text": [
      "23/03/04 21:24:02 WARN SparkSession: Using an existing Spark session; only runtime SQL configurations will take effect.\n"
     ]
    },
    {
     "data": {
      "text/plain": [
       "spark: org.apache.spark.sql.SparkSession = org.apache.spark.sql.SparkSession@65fe8b7e\n"
      ]
     },
     "execution_count": 2,
     "metadata": {},
     "output_type": "execute_result"
    }
   ],
   "source": [
    "val spark: SparkSession = SparkSession\n",
    "    .builder()\n",
    "    .appName(\"Final project #4\")\n",
    "    .master(\"local[8]\")\n",
    "    .getOrCreate()"
   ]
  },
  {
   "cell_type": "markdown",
   "id": "65af7b0d",
   "metadata": {},
   "source": [
    "Импортирование дополнительных пакетов"
   ]
  },
  {
   "cell_type": "code",
   "execution_count": 3,
   "id": "4430ff7c",
   "metadata": {},
   "outputs": [
    {
     "data": {
      "text/plain": [
       "import spark.implicits._\n"
      ]
     },
     "execution_count": 3,
     "metadata": {},
     "output_type": "execute_result"
    }
   ],
   "source": [
    "import spark.implicits._"
   ]
  },
  {
   "cell_type": "markdown",
   "id": "ce7e7b07",
   "metadata": {},
   "source": [
    "### Даты, на которые будут строится витрины"
   ]
  },
  {
   "cell_type": "code",
   "execution_count": 4,
   "id": "69ef1c46",
   "metadata": {},
   "outputs": [
    {
     "data": {
      "text/plain": [
       "dateMartDate1: String = 2020-11-01\n",
       "dateMartDate2: String = 2020-11-02\n",
       "dateMartDate3: String = 2020-11-03\n",
       "dateMartDate4: String = 2020-11-04\n"
      ]
     },
     "execution_count": 4,
     "metadata": {},
     "output_type": "execute_result"
    }
   ],
   "source": [
    "val dateMartDate1 = \"2020-11-01\"\n",
    "val dateMartDate2 = \"2020-11-02\"\n",
    "val dateMartDate3 = \"2020-11-03\"\n",
    "val dateMartDate4 = \"2020-11-04\""
   ]
  },
  {
   "cell_type": "code",
   "execution_count": 5,
   "id": "1f2a7a04",
   "metadata": {},
   "outputs": [
    {
     "data": {
      "text/plain": [
       "dateMartGeneral: String = 2020-11-04\n"
      ]
     },
     "execution_count": 5,
     "metadata": {},
     "output_type": "execute_result"
    }
   ],
   "source": [
    "// Все витрины будут построены на общую дату dateMartDate1\n",
    "val dateMartGeneral = dateMartDate4"
   ]
  },
  {
   "cell_type": "markdown",
   "id": "1ba124ce",
   "metadata": {},
   "source": [
    "### 1. Подготовка данных"
   ]
  },
  {
   "cell_type": "markdown",
   "id": "d5408352",
   "metadata": {},
   "source": [
    "#### a) Определение схемы данных"
   ]
  },
  {
   "cell_type": "code",
   "execution_count": 6,
   "id": "894d9873",
   "metadata": {},
   "outputs": [
    {
     "data": {
      "text/plain": [
       "schemaClients: org.apache.spark.sql.types.StructType = StructType(StructField(ClientId,IntegerType,false),StructField(ClientName,StringType,false),StructField(Type,StringType,true),StructField(Form,StringType,true),StructField(RegisterDate,DateType,false))\n"
      ]
     },
     "execution_count": 6,
     "metadata": {},
     "output_type": "execute_result"
    }
   ],
   "source": [
    "// Схема данных для таблицы клиентов\n",
    "val schemaClients = new StructType()\n",
    "      .add(\"ClientId\", IntegerType, false)\n",
    "      .add(\"ClientName\", StringType, false)\n",
    "      .add(\"Type\", StringType, true)\n",
    "      .add(\"Form\", StringType, true)\n",
    "      .add(\"RegisterDate\", DateType, false)"
   ]
  },
  {
   "cell_type": "code",
   "execution_count": 7,
   "id": "3784f60c",
   "metadata": {},
   "outputs": [
    {
     "data": {
      "text/plain": [
       "schemaAccounts: org.apache.spark.sql.types.StructType = StructType(StructField(AccountId,IntegerType,false),StructField(AccountNum,StringType,false),StructField(ClientId,IntegerType,false),StructField(DateOpen,DateType,false))\n"
      ]
     },
     "execution_count": 7,
     "metadata": {},
     "output_type": "execute_result"
    }
   ],
   "source": [
    "// Схема данных для таблицы счетов\n",
    "val schemaAccounts = new StructType()\n",
    "      .add(\"AccountId\", DataTypes.IntegerType, false)\n",
    "      .add(\"AccountNum\", DataTypes.StringType, false)\n",
    "      .add(\"ClientId\", DataTypes.IntegerType, false)\n",
    "      .add(\"DateOpen\", DataTypes.DateType, false)"
   ]
  },
  {
   "cell_type": "code",
   "execution_count": 8,
   "id": "fb56b396",
   "metadata": {},
   "outputs": [
    {
     "data": {
      "text/plain": [
       "schemaOperations: org.apache.spark.sql.types.StructType = StructType(StructField(AccountDB,IntegerType,false),StructField(AccountCR,IntegerType,false),StructField(DateOp,DateType,false),StructField(Amount,StringType,true),StructField(Currency,StringType,false),StructField(Comment,StringType,true))\n"
      ]
     },
     "execution_count": 8,
     "metadata": {},
     "output_type": "execute_result"
    }
   ],
   "source": [
    "// Схема данных для таблицы банковских операций \n",
    "val schemaOperations = new StructType()\n",
    "      .add(\"AccountDB\", DataTypes.IntegerType, false)\n",
    "      .add(\"AccountCR\", DataTypes.IntegerType, false)\n",
    "      .add(\"DateOp\", DataTypes.DateType, false)\n",
    "      .add(\"Amount\", DataTypes.StringType, true)\n",
    "      .add(\"Currency\", DataTypes.StringType, false)\n",
    "      .add(\"Comment\", DataTypes.StringType, true)"
   ]
  },
  {
   "cell_type": "code",
   "execution_count": 9,
   "id": "76682d54",
   "metadata": {},
   "outputs": [
    {
     "data": {
      "text/plain": [
       "schemaRates: org.apache.spark.sql.types.StructType = StructType(StructField(Currency,StringType,false),StructField(Rate,StringType,false),StructField(RateDate,DateType,false))\n"
      ]
     },
     "execution_count": 9,
     "metadata": {},
     "output_type": "execute_result"
    }
   ],
   "source": [
    "// Схема данных для таблицы курса валют\n",
    "val schemaRates = new StructType()\n",
    "      .add(\"Currency\", StringType, false)\n",
    "      .add(\"Rate\", StringType, false)\n",
    "      .add(\"RateDate\", DateType, false)"
   ]
  },
  {
   "cell_type": "markdown",
   "id": "d017d275",
   "metadata": {},
   "source": [
    "#### b) чтение  данных и загрузка данных в dataframe"
   ]
  },
  {
   "cell_type": "code",
   "execution_count": 10,
   "id": "e6d2cfbc",
   "metadata": {},
   "outputs": [
    {
     "data": {
      "text/plain": [
       "dfClients: org.apache.spark.sql.DataFrame = [ClientId: int, ClientName: string ... 3 more fields]\n"
      ]
     },
     "execution_count": 10,
     "metadata": {},
     "output_type": "execute_result"
    }
   ],
   "source": [
    "// Считаем файл Clients.csv и запишем прочитанное в dataframe\n",
    "val dfClients = spark.read.format(\"csv\")\n",
    "      .option(\"header\", true)\n",
    "      .option(\"multiline\", true)\n",
    "      .option(\"delimiter\", \";\")\n",
    "      .option(\"dateformat\",\"yyyy-MM-dd\")\n",
    "      .option(\"enforceSchema\", true)\n",
    "      .schema(schemaClients)\n",
    "      .load(\"hdfs://localhost:9099/user/bykovsky_nikita/project_4/Clients.csv\")"
   ]
  },
  {
   "cell_type": "code",
   "execution_count": 11,
   "id": "07718b85",
   "metadata": {},
   "outputs": [
    {
     "data": {
      "text/plain": [
       "dfAccounts: org.apache.spark.sql.DataFrame = [AccountId: int, AccountNum: string ... 2 more fields]\n"
      ]
     },
     "execution_count": 11,
     "metadata": {},
     "output_type": "execute_result"
    }
   ],
   "source": [
    "// Считаем файл Account.csv и запишем прочитанное в dataframe\n",
    "val dfAccounts = spark.read.format(\"csv\")\n",
    "      .option(\"header\", true)\n",
    "      .option(\"multiline\", true)\n",
    "      .option(\"delimiter\", \";\")\n",
    "      .option(\"dateformat\",\"yyyy-MM-dd\")\n",
    "      .option(\"enforceSchema\", true)\n",
    "      .schema(schemaAccounts)\n",
    "      .load(\"hdfs://localhost:9099/user/bykovsky_nikita/project_4/Account.csv\")"
   ]
  },
  {
   "cell_type": "code",
   "execution_count": 12,
   "id": "2a49e5cd",
   "metadata": {},
   "outputs": [
    {
     "data": {
      "text/plain": [
       "dfOldOperations: org.apache.spark.sql.DataFrame = [AccountDB: int, AccountCR: int ... 4 more fields]\n"
      ]
     },
     "execution_count": 12,
     "metadata": {},
     "output_type": "execute_result"
    }
   ],
   "source": [
    "// Считаем файл Operation.csv и запишем прочитанное в dataframe\n",
    "val dfOldOperations = spark.read.format(\"csv\")\n",
    "      .option(\"header\", true)\n",
    "      .option(\"multiline\", true)\n",
    "      .option(\"delimiter\", \";\")\n",
    "      .option(\"locale\", \"az-AZ\")\n",
    "      .option(\"dateformat\",\"yyyy-MM-dd\")\n",
    "      .schema(schemaOperations)\n",
    "      .load(\"hdfs://localhost:9099/user/bykovsky_nikita/project_4/Operation.csv\")"
   ]
  },
  {
   "cell_type": "code",
   "execution_count": 13,
   "id": "752a0427",
   "metadata": {},
   "outputs": [
    {
     "data": {
      "text/plain": [
       "dfOldRates: org.apache.spark.sql.DataFrame = [Currency: string, Rate: string ... 1 more field]\n"
      ]
     },
     "execution_count": 13,
     "metadata": {},
     "output_type": "execute_result"
    }
   ],
   "source": [
    "// Считаем файл Rate.csv и запишем прочитанное в dataframe\n",
    "val dfOldRates = spark.read.format(\"csv\")\n",
    "      .option(\"header\", \"true\")\n",
    "      .option(\"multiline\", true)\n",
    "      .option(\"delimiter\", \";\")\n",
    "      .option(\"enforceSchema\", true)\n",
    "      .schema(schemaRates)\n",
    "      .load(\"hdfs://localhost:9099/user/bykovsky_nikita/project_4/Rate.csv\")"
   ]
  },
  {
   "cell_type": "markdown",
   "id": "b3d257ba",
   "metadata": {},
   "source": [
    "#### Просмотрим содержимое dataframe'ов"
   ]
  },
  {
   "cell_type": "code",
   "execution_count": 14,
   "id": "fd23a6d4",
   "metadata": {},
   "outputs": [
    {
     "name": "stdout",
     "output_type": "stream",
     "text": [
      "+--------+----------+----+----+------------+\n",
      "|ClientId|ClientName|Type|Form|RegisterDate|\n",
      "+--------+----------+----+----+------------+\n",
      "|       1|  Клиент 1|   Ф|   -|  2020-11-01|\n",
      "|       2|  Клиент 2|   Ю| ООО|  2020-11-02|\n",
      "|       3|  Клиент 3|   Ф|   -|  2020-11-03|\n",
      "|       4|  Клиент 4|   Ю|  ИП|  2020-11-04|\n",
      "|       5|  Клиент 5|   Ф|   -|  2020-11-01|\n",
      "|       6|  Клиент 6|   Ю|  АО|  2020-11-02|\n",
      "|       7|  Клиент 7|   Ф|   -|  2020-11-03|\n",
      "|       8|  Клиент 8|   Ю| ПАО|  2020-11-01|\n",
      "|       9|  Клиент 9|   Ф|   -|  2020-11-02|\n",
      "|      10| Клиент 10|   Ю| ООО|  2020-11-03|\n",
      "|      11| Клиент 11|   Ф|   -|  2020-11-04|\n",
      "|      12| Клиент 12|   Ю|  ИП|  2020-11-01|\n",
      "|      13| Клиент 13|   Ф|   -|  2020-11-02|\n",
      "|      14| Клиент 14|   Ю|  АО|  2020-11-03|\n",
      "|      15| Клиент 15|   Ф|   -|  2020-11-01|\n",
      "|      16| Клиент 16|   Ю| ПАО|  2020-11-02|\n",
      "|      17| Клиент 17|   Ф|   -|  2020-11-03|\n",
      "|      18| Клиент 18|   Ю| ООО|  2020-11-04|\n",
      "|      19| Клиент 19|   Ф|   -|  2020-11-01|\n",
      "|      20| Клиент 20|   Ю|  ИП|  2020-11-02|\n",
      "+--------+----------+----+----+------------+\n",
      "only showing top 20 rows\n",
      "\n"
     ]
    }
   ],
   "source": [
    "dfClients.show()"
   ]
  },
  {
   "cell_type": "code",
   "execution_count": 15,
   "id": "b184e544",
   "metadata": {},
   "outputs": [
    {
     "name": "stdout",
     "output_type": "stream",
     "text": [
      "+---------+--------------------+--------+----------+\n",
      "|AccountId|          AccountNum|ClientId|  DateOpen|\n",
      "+---------+--------------------+--------+----------+\n",
      "|        1|40702810927050000337|       1|2020-11-01|\n",
      "|        2|40802810300000009067|       2|2020-11-02|\n",
      "|        3|40802810300000009708|       3|2020-11-03|\n",
      "|        4|40802810800000030701|       4|2020-11-04|\n",
      "|        5|40802810300000011071|       5|2020-11-01|\n",
      "|        6|40802810100000063339|       6|2020-11-02|\n",
      "|        7|40702810823620000031|       7|2020-11-03|\n",
      "|        8|40802810409260005894|       8|2020-11-04|\n",
      "|        9|40802810905030000004|       9|2020-11-01|\n",
      "|       10|40802810400020001097|      10|2020-11-02|\n",
      "|       11|40702810717060008427|      11|2020-11-03|\n",
      "|       12|40702810836260000957|      12|2020-11-04|\n",
      "|       13|40702810000000150277|      13|2020-11-01|\n",
      "|       14|40702810200000145833|      14|2020-11-02|\n",
      "|       15|40702810200000145891|      15|2020-11-03|\n",
      "|       16|40702810400000099734|      16|2020-11-04|\n",
      "|       17|40702810600000057437|      17|2020-11-01|\n",
      "|       18|40702810472000008818|      18|2020-11-02|\n",
      "|       19|40702810400000100092|      19|2020-11-03|\n",
      "|       20|40702810473000000378|      20|2020-11-04|\n",
      "+---------+--------------------+--------+----------+\n",
      "only showing top 20 rows\n",
      "\n"
     ]
    }
   ],
   "source": [
    "dfAccounts.show()"
   ]
  },
  {
   "cell_type": "code",
   "execution_count": 16,
   "id": "74297ab7",
   "metadata": {},
   "outputs": [
    {
     "data": {
      "text/plain": [
       "dfOperations: org.apache.spark.sql.DataFrame = [AccountDB: int, AccountCR: int ... 4 more fields]\n"
      ]
     },
     "execution_count": 16,
     "metadata": {},
     "output_type": "execute_result"
    }
   ],
   "source": [
    "// Изменен разделитель целой и дробной части с \",\" на \".\"\n",
    "val dfOperations = dfOldOperations.withColumn(\"Amount\", regexp_replace($\"Amount\", \",\", \".\").cast(DoubleType))"
   ]
  },
  {
   "cell_type": "code",
   "execution_count": 17,
   "id": "5df938ac",
   "metadata": {},
   "outputs": [
    {
     "name": "stdout",
     "output_type": "stream",
     "text": [
      "+---------+---------+----------+------+--------+--------------------+\n",
      "|AccountDB|AccountCR|    DateOp|Amount|Currency|             Comment|\n",
      "+---------+---------+----------+------+--------+--------------------+\n",
      "|        1|     4999|2020-11-01|   0.1|     RUB|а/м, а\\м, автомоб...|\n",
      "|        2|     5000|2020-11-02|   0.2|     USD| сою, соя, зерно,...|\n",
      "|        3|     5001|2020-11-03|   0.3|      EU|сигар, табачн, та...|\n",
      "|        4|     5002|2020-11-04|   0.4|     RUB|гсм, бензин, керо...|\n",
      "|        5|     5003|2020-11-01|   0.5|     USD|компью, монитор, ...|\n",
      "|        6|     5004|2020-11-02|   0.6|      EU|ювелир,  юв., лом...|\n",
      "|        7|     5005|2020-11-03|   0.7|     RUB|хоз, бытхим, подг...|\n",
      "|        8|     5006|2020-11-04|   0.8|     USD|турусл, турист, з...|\n",
      "|        9|     5007|2020-11-01|   0.9|      EU|торгвыруч, оплату...|\n",
      "|       10|     5008|2020-11-02|   1.0|     RUB|а/м, а\\м, автомоб...|\n",
      "|       11|     5009|2020-11-03|   1.1|     USD| сою, соя, зерно,...|\n",
      "|       12|     5010|2020-11-04|   1.2|      EU|сигар, табачн, та...|\n",
      "|       13|     5011|2020-11-01|   1.3|     RUB|гсм, бензин, керо...|\n",
      "|       14|     5012|2020-11-02|   1.4|     USD|компью, монитор, ...|\n",
      "|       15|     5013|2020-11-03|   1.5|      EU|ювелир,  юв., лом...|\n",
      "|       16|     5014|2020-11-04|   1.6|     RUB|хоз, бытхим, подг...|\n",
      "|       17|     5015|2020-11-01|   1.7|     USD|турусл, турист, з...|\n",
      "|       18|     5016|2020-11-02|   1.8|      EU|торгвыруч, оплату...|\n",
      "|       19|     5017|2020-11-03|   1.9|     RUB|а/м, а\\м, автомоб...|\n",
      "|       20|     5018|2020-11-04|   2.0|     USD| сою, соя, зерно,...|\n",
      "+---------+---------+----------+------+--------+--------------------+\n",
      "only showing top 20 rows\n",
      "\n"
     ]
    }
   ],
   "source": [
    "dfOperations.show()"
   ]
  },
  {
   "cell_type": "code",
   "execution_count": 18,
   "id": "fb48188b",
   "metadata": {},
   "outputs": [
    {
     "data": {
      "text/plain": [
       "dfRates: org.apache.spark.sql.DataFrame = [Currency: string, Rate: double ... 1 more field]\n"
      ]
     },
     "execution_count": 18,
     "metadata": {},
     "output_type": "execute_result"
    }
   ],
   "source": [
    "// Изменен разделитель целой и дробной части с \",\" на \".\"\n",
    "val dfRates = dfOldRates.withColumn(\"Rate\", regexp_replace($\"Rate\", \",\", \".\").cast(DoubleType))"
   ]
  },
  {
   "cell_type": "code",
   "execution_count": 19,
   "id": "3ed41b67",
   "metadata": {},
   "outputs": [
    {
     "name": "stdout",
     "output_type": "stream",
     "text": [
      "+--------+-----+----------+\n",
      "|Currency| Rate|  RateDate|\n",
      "+--------+-----+----------+\n",
      "|     USD|80.23|2020-01-01|\n",
      "|      EU|91.27|2020-01-01|\n",
      "|     RUB|  1.0|2020-01-01|\n",
      "|     USD|80.23|2020-01-02|\n",
      "|      EU|91.27|2020-01-02|\n",
      "|     RUB|  1.0|2020-01-02|\n",
      "+--------+-----+----------+\n",
      "\n"
     ]
    }
   ],
   "source": [
    "dfRates.show()"
   ]
  },
  {
   "cell_type": "markdown",
   "id": "3c92edc0",
   "metadata": {},
   "source": [
    "#### Считываем файл со Списками 1 и 2"
   ]
  },
  {
   "cell_type": "code",
   "execution_count": 20,
   "id": "619d9d6e",
   "metadata": {},
   "outputs": [
    {
     "data": {
      "text/plain": [
       "schemaLists: org.apache.spark.sql.types.StructType = StructType(StructField(id,IntegerType,false),StructField(list,StringType,false))\n"
      ]
     },
     "execution_count": 20,
     "metadata": {},
     "output_type": "execute_result"
    }
   ],
   "source": [
    "// Определим схему данных для локальной базы данных\n",
    "val schemaLists = new StructType()\n",
    "      .add(\"id\", IntegerType, false)\n",
    "      .add(\"list\", StringType, false)"
   ]
  },
  {
   "cell_type": "code",
   "execution_count": 21,
   "id": "9b31080b",
   "metadata": {},
   "outputs": [
    {
     "data": {
      "text/plain": [
       "dfLists: org.apache.spark.sql.DataFrame = [id: int, list: string]\n"
      ]
     },
     "execution_count": 21,
     "metadata": {},
     "output_type": "execute_result"
    }
   ],
   "source": [
    "// Файл со списками находится локально\n",
    "val dfLists = spark.read.format(\"csv\")\n",
    "        .option(\"header\", \"true\")\n",
    "        .option(\"multiline\", true)\n",
    "        .option(\"sep\", \";\")\n",
    "        .option(\"enforceSchema\", true)\n",
    "        .schema(schemaLists)\n",
    "        .load(\"Lists.csv\")"
   ]
  },
  {
   "cell_type": "code",
   "execution_count": 22,
   "id": "24a783bf",
   "metadata": {},
   "outputs": [
    {
     "name": "stdout",
     "output_type": "stream",
     "text": [
      "+---+--------------------+\n",
      "| id|                list|\n",
      "+---+--------------------+\n",
      "|  1|%а/м%, %а\\м%, %ав...|\n",
      "|  2|%сою%, %соя%, %зе...|\n",
      "+---+--------------------+\n",
      "\n"
     ]
    }
   ],
   "source": [
    "dfLists.show()"
   ]
  },
  {
   "cell_type": "markdown",
   "id": "38fad3a6",
   "metadata": {},
   "source": [
    "#### d) Делаем join таблицы клиентов, счетов и operations"
   ]
  },
  {
   "cell_type": "code",
   "execution_count": 23,
   "id": "73e92850",
   "metadata": {},
   "outputs": [
    {
     "data": {
      "text/plain": [
       "clientsAccountsOperations: org.apache.spark.sql.DataFrame = [AccountDB: int, AccountCR: int ... 14 more fields]\n"
      ]
     },
     "execution_count": 23,
     "metadata": {},
     "output_type": "execute_result"
    }
   ],
   "source": [
    "val clientsAccountsOperations = dfOperations\n",
    "  .join(\n",
    "    dfClients.join(dfAccounts, \"ClientId\")\n",
    "      .select(\n",
    "        $\"ClientId\".as(\"ClientDB\"),\n",
    "        $\"AccountId\".as(\"AccDB\"),\n",
    "        $\"AccountNum\".as(\"NumDB\"),\n",
    "        $\"Type\".as(\"TypeDB\"),\n",
    "        $\"Form\".as(\"FormDB\")\n",
    "      ),\n",
    "    $\"AccDB\" === $\"AccountDB\" || $\"AccDB\" === $\"AccountCR\",\n",
    "    joinType = \"left\"\n",
    "  )\n",
    "  .join(\n",
    "    dfClients.join(dfAccounts, \"ClientId\")\n",
    "      .select(\n",
    "        $\"ClientId\".as(\"ClientCR\"),\n",
    "        $\"AccountId\".as(\"AccCR\"),\n",
    "        $\"AccountNum\".as(\"NumCR\"),\n",
    "        $\"Type\".as(\"TypeCR\"),\n",
    "        $\"Form\".as(\"FormCR\")\n",
    "      ),\n",
    "    $\"AccCR\" === $\"AccountCR\",\n",
    "    joinType = \"left\"\n",
    "  )"
   ]
  },
  {
   "cell_type": "code",
   "execution_count": 24,
   "id": "4781e630",
   "metadata": {},
   "outputs": [
    {
     "name": "stdout",
     "output_type": "stream",
     "text": [
      "+---------+---------+----------+------+--------+--------------------+--------+-----+--------------------+------+------+--------+-----+--------------------+------+------+\n",
      "|AccountDB|AccountCR|    DateOp|Amount|Currency|             Comment|ClientDB|AccDB|               NumDB|TypeDB|FormDB|ClientCR|AccCR|               NumCR|TypeCR|FormCR|\n",
      "+---------+---------+----------+------+--------+--------------------+--------+-----+--------------------+------+------+--------+-----+--------------------+------+------+\n",
      "|        8|     5006|2020-11-04|   0.8|     USD|турусл, турист, з...|       8|    8|40802810409260005894|     Ю|   ПАО|    5006| 5006|40702810020270000072|     Ю|    АО|\n",
      "|        8|     5006|2020-11-04|   0.8|     USD|турусл, турист, з...|    5006| 5006|40702810020270000072|     Ю|    АО|    5006| 5006|40702810020270000072|     Ю|    АО|\n",
      "|        5|     5003|2020-11-01|   0.5|     USD|компью, монитор, ...|       5|    5|40802810300000011071|     Ф|     -|    5003| 5003|40802810520270000061|     Ф|     -|\n",
      "|        5|     5003|2020-11-01|   0.5|     USD|компью, монитор, ...|    5003| 5003|40802810520270000061|     Ф|     -|    5003| 5003|40802810520270000061|     Ф|     -|\n",
      "|        2|     5000|2020-11-02|   0.2|     USD| сою, соя, зерно,...|       2|    2|40802810300000009067|     Ю|   ООО|    5000| 5000|40802810311150000183|     Ю|   ПАО|\n",
      "|        2|     5000|2020-11-02|   0.2|     USD| сою, соя, зерно,...|    5000| 5000|40802810311150000183|     Ю|   ПАО|    5000| 5000|40802810311150000183|     Ю|   ПАО|\n",
      "|        3|     5001|2020-11-03|   0.3|      EU|сигар, табачн, та...|       3|    3|40802810300000009708|     Ф|     -|    5001| 5001|40702810326030000178|     Ф|     -|\n",
      "|        3|     5001|2020-11-03|   0.3|      EU|сигар, табачн, та...|    5001| 5001|40702810326030000178|     Ф|     -|    5001| 5001|40702810326030000178|     Ф|     -|\n",
      "|        6|     5004|2020-11-02|   0.6|      EU|ювелир,  юв., лом...|       6|    6|40802810100000063339|     Ю|    АО|    5004| 5004|40702810623050000084|     Ю|    ИП|\n",
      "|        6|     5004|2020-11-02|   0.6|      EU|ювелир,  юв., лом...|    5004| 5004|40702810623050000084|     Ю|    ИП|    5004| 5004|40702810623050000084|     Ю|    ИП|\n",
      "|        1|     4999|2020-11-01|   0.1|     RUB|а/м, а\\м, автомоб...|       1|    1|40702810927050000337|     Ф|     -|    4999| 4999|40802810147180000076|     Ф|     -|\n",
      "|        1|     4999|2020-11-01|   0.1|     RUB|а/м, а\\м, автомоб...|    4999| 4999|40802810147180000076|     Ф|     -|    4999| 4999|40802810147180000076|     Ф|     -|\n",
      "|       10|     5008|2020-11-02|   1.0|     RUB|а/м, а\\м, автомоб...|      10|   10|40802810400020001097|     Ю|   ООО|    5008| 5008|40802810610450000337|     Ю|   ПАО|\n",
      "|       10|     5008|2020-11-02|   1.0|     RUB|а/м, а\\м, автомоб...|    5008| 5008|40802810610450000337|     Ю|   ПАО|    5008| 5008|40802810610450000337|     Ю|   ПАО|\n",
      "|        9|     5007|2020-11-01|   0.9|      EU|торгвыруч, оплату...|       9|    9|40802810905030000004|     Ф|     -|    5007| 5007|40702810320640000569|     Ф|     -|\n",
      "|        9|     5007|2020-11-01|   0.9|      EU|торгвыруч, оплату...|    5007| 5007|40702810320640000569|     Ф|     -|    5007| 5007|40702810320640000569|     Ф|     -|\n",
      "|        7|     5005|2020-11-03|   0.7|     RUB|хоз, бытхим, подг...|       7|    7|40702810823620000031|     Ф|     -|    5005| 5005|40702810120240000822|     Ф|     -|\n",
      "|        7|     5005|2020-11-03|   0.7|     RUB|хоз, бытхим, подг...|    5005| 5005|40702810120240000822|     Ф|     -|    5005| 5005|40702810120240000822|     Ф|     -|\n",
      "|       11|     5009|2020-11-03|   1.1|     USD| сою, соя, зерно,...|      11|   11|40702810717060008427|     Ф|     -|    5009| 5009|40802810120070000329|     Ф|     -|\n",
      "|        4|     5002|2020-11-04|   0.4|     RUB|гсм, бензин, керо...|       4|    4|40802810800000030701|     Ю|    ИП|    5002| 5002|40702810520020000052|     Ю|   ООО|\n",
      "+---------+---------+----------+------+--------+--------------------+--------+-----+--------------------+------+------+--------+-----+--------------------+------+------+\n",
      "only showing top 20 rows\n",
      "\n"
     ]
    }
   ],
   "source": [
    "clientsAccountsOperations.show()"
   ]
  },
  {
   "cell_type": "markdown",
   "id": "1411b5da",
   "metadata": {},
   "source": [
    "#### f) Делаем join таблицы operation и курсов валют"
   ]
  },
  {
   "cell_type": "code",
   "execution_count": 25,
   "id": "a403f8d4",
   "metadata": {},
   "outputs": [
    {
     "data": {
      "text/plain": [
       "lastRate: org.apache.spark.sql.DataFrame = [Currency: string, Rate: double]\n"
      ]
     },
     "execution_count": 25,
     "metadata": {},
     "output_type": "execute_result"
    }
   ],
   "source": [
    "// Определим курс на последнюю дату\n",
    "val lastRate = dfRates.filter($\"RateDate\" === dfRates.select(max($\"RateDate\")).first().get(0))\n",
    "  .select($\"Currency\", $\"Rate\")"
   ]
  },
  {
   "cell_type": "code",
   "execution_count": 26,
   "id": "81db4369",
   "metadata": {},
   "outputs": [
    {
     "data": {
      "text/plain": [
       "clientsAccountsOperationsRate: org.apache.spark.sql.Dataset[org.apache.spark.sql.Row] = [AccountDB: int, AccountCR: int ... 17 more fields]\n"
      ]
     },
     "execution_count": 26,
     "metadata": {},
     "output_type": "execute_result"
    }
   ],
   "source": [
    "// Сформируем результирующую таблицу с приведением рублевых сумм\n",
    "val clientsAccountsOperationsRate = clientsAccountsOperations\n",
    "  .join(lastRate, clientsAccountsOperations(\"Currency\") === lastRate(\"Currency\"), \"left\")\n",
    "  .withColumn(\"AmountRUB\", round(col(\"Amount\") * col(\"Rate\"), 2))\n",
    "  .where($\"DateOp\" === dateMartGeneral)"
   ]
  },
  {
   "cell_type": "code",
   "execution_count": 27,
   "id": "f247b49f",
   "metadata": {},
   "outputs": [
    {
     "name": "stdout",
     "output_type": "stream",
     "text": [
      "+---------+---------+----------+------+--------+--------------------+--------+-----+--------------------+------+------+--------+-----+--------------------+------+------+--------+-----+---------+\n",
      "|AccountDB|AccountCR|    DateOp|Amount|Currency|             Comment|ClientDB|AccDB|               NumDB|TypeDB|FormDB|ClientCR|AccCR|               NumCR|TypeCR|FormCR|Currency| Rate|AmountRUB|\n",
      "+---------+---------+----------+------+--------+--------------------+--------+-----+--------------------+------+------+--------+-----+--------------------+------+------+--------+-----+---------+\n",
      "|       32|     5030|2020-11-04|   3.2|     USD|компью, монитор, ...|      32|   32|40702810400060008556|     Ю|   ПАО|    5030| 5030|40702810512610000064|     Ю|    АО|     USD|80.23|   256.74|\n",
      "|       32|     5030|2020-11-04|   3.2|     USD|компью, монитор, ...|    5030| 5030|40702810512610000064|     Ю|    АО|    5030| 5030|40702810512610000064|     Ю|    АО|     USD|80.23|   256.74|\n",
      "|       40|     5038|2020-11-04|   4.0|     RUB|гсм, бензин, керо...|      40|   40|40702810000000113612|     Ю|   ПАО|    5038| 5038|40802810735000000233|     Ю|    АО|     RUB|  1.0|      4.0|\n",
      "|       40|     5038|2020-11-04|   4.0|     RUB|гсм, бензин, керо...|    5038| 5038|40802810735000000233|     Ю|    АО|    5038| 5038|40802810735000000233|     Ю|    АО|     RUB|  1.0|      4.0|\n",
      "|        8|     5006|2020-11-04|   0.8|     USD|турусл, турист, з...|       8|    8|40802810409260005894|     Ю|   ПАО|    5006| 5006|40702810020270000072|     Ю|    АО|     USD|80.23|    64.18|\n",
      "|        8|     5006|2020-11-04|   0.8|     USD|турусл, турист, з...|    5006| 5006|40702810020270000072|     Ю|    АО|    5006| 5006|40702810020270000072|     Ю|    АО|     USD|80.23|    64.18|\n",
      "|       44|     5042|2020-11-04|   4.4|     USD|турусл, турист, з...|      44|   44|40702810928030000013|     Ю|    ИП|    5042| 5042|40702810944410000143|     Ю|   ООО|     USD|80.23|   353.01|\n",
      "|       20|     5018|2020-11-04|   2.0|     USD| сою, соя, зерно,...|      20|   20|40702810473000000378|     Ю|    ИП|    5018| 5018|40802810832260000152|     Ю|   ООО|     USD|80.23|   160.46|\n",
      "|       20|     5018|2020-11-04|   2.0|     USD| сою, соя, зерно,...|    5018| 5018|40802810832260000152|     Ю|   ООО|    5018| 5018|40802810832260000152|     Ю|   ООО|     USD|80.23|   160.46|\n",
      "|       12|     5010|2020-11-04|   1.2|      EU|сигар, табачн, та...|      12|   12|40702810836260000957|     Ю|    ИП|    5010| 5010|40702810024210000551|     Ю|   ООО|      EU|91.27|   109.52|\n",
      "|       12|     5010|2020-11-04|   1.2|      EU|сигар, табачн, та...|    5010| 5010|40702810024210000551|     Ю|   ООО|    5010| 5010|40702810024210000551|     Ю|   ООО|      EU|91.27|   109.52|\n",
      "|       24|     5022|2020-11-04|   2.4|      EU|ювелир,  юв., лом...|      24|   24|40702810812250000077|     Ю|   ПАО|    5022| 5022|40802810910560000490|     Ю|    АО|      EU|91.27|   219.05|\n",
      "|       24|     5022|2020-11-04|   2.4|      EU|ювелир,  юв., лом...|    5022| 5022|40802810910560000490|     Ю|    АО|    5022| 5022|40802810910560000490|     Ю|    АО|      EU|91.27|   219.05|\n",
      "|       16|     5014|2020-11-04|   1.6|     RUB|хоз, бытхим, подг...|      16|   16|40702810400000099734|     Ю|   ПАО|    5014| 5014|40702810147030000328|     Ю|    АО|     RUB|  1.0|      1.6|\n",
      "|       16|     5014|2020-11-04|   1.6|     RUB|хоз, бытхим, подг...|    5014| 5014|40702810147030000328|     Ю|    АО|    5014| 5014|40702810147030000328|     Ю|    АО|     RUB|  1.0|      1.6|\n",
      "|       28|     5026|2020-11-04|   2.8|     RUB|а/м, а\\м, автомоб...|      28|   28|40802810300000018362|     Ю|    ИП|    5026| 5026|40703810603260000011|     Ю|   ООО|     RUB|  1.0|      2.8|\n",
      "|       28|     5026|2020-11-04|   2.8|     RUB|а/м, а\\м, автомоб...|    5026| 5026|40703810603260000011|     Ю|   ООО|    5026| 5026|40703810603260000011|     Ю|   ООО|     RUB|  1.0|      2.8|\n",
      "|        4|     5002|2020-11-04|   0.4|     RUB|гсм, бензин, керо...|       4|    4|40802810800000030701|     Ю|    ИП|    5002| 5002|40702810520020000052|     Ю|   ООО|     RUB|  1.0|      0.4|\n",
      "|        4|     5002|2020-11-04|   0.4|     RUB|гсм, бензин, керо...|    5002| 5002|40702810520020000052|     Ю|   ООО|    5002| 5002|40702810520020000052|     Ю|   ООО|     RUB|  1.0|      0.4|\n",
      "|       36|     5034|2020-11-04|   3.6|      EU|торгвыруч, оплату...|      36|   36|40702810900000152139|     Ю|    ИП|    5034| 5034|40802810020110000211|     Ю|   ООО|      EU|91.27|   328.57|\n",
      "+---------+---------+----------+------+--------+--------------------+--------+-----+--------------------+------+------+--------+-----+--------------------+------+------+--------+-----+---------+\n",
      "only showing top 20 rows\n",
      "\n"
     ]
    }
   ],
   "source": [
    "clientsAccountsOperationsRate.show()"
   ]
  },
  {
   "cell_type": "markdown",
   "id": "f1364392",
   "metadata": {},
   "source": [
    " ## 1. Построение витрины данных #1"
   ]
  },
  {
   "cell_type": "code",
   "execution_count": 28,
   "id": "e15b2609",
   "metadata": {},
   "outputs": [
    {
     "data": {
      "text/plain": [
       "corporatePayments: org.apache.spark.sql.DataFrame = [AccountID: int, ClientId: int ... 5 more fields]\n"
      ]
     },
     "execution_count": 28,
     "metadata": {},
     "output_type": "execute_result"
    }
   ],
   "source": [
    "val corporatePayments = clientsAccountsOperationsRate\n",
    "  .groupBy($\"AccDB\".as(\"AccountID\"), $\"ClientDB\".as(\"ClientId\"), $\"DateOp\".as(\"CutoffDt\"))\n",
    "  .agg(\n",
    "    round(sum(when($\"AccDB\" === $\"AccountDB\", $\"AmountRUB\").otherwise(0)), 2).as(\"PaymentAmt\"),\n",
    "    round(sum(when($\"AccDB\" === $\"AccountCR\", $\"AmountRUB\").otherwise(0)), 2).as(\"EnrollmentAmt\"),\n",
    "    round(sum(when($\"AccDB\" === $\"AccountDB\" && $\"NumCR\".startsWith(\"40702\"), $\"AmountRUB\").otherwise(0)), 2).as(\"TaxAmt\"),\n",
    "    round(sum(when($\"AccDB\" === $\"AccountCR\" && $\"NumDB\".startsWith(\"40802\"), $\"AmountRUB\").otherwise(0)), 2).as(\"ClearAmt\")\n",
    "  )"
   ]
  },
  {
   "cell_type": "code",
   "execution_count": 29,
   "id": "dcd1d976",
   "metadata": {},
   "outputs": [
    {
     "name": "stdout",
     "output_type": "stream",
     "text": [
      "+---------+--------+----------+----------+-------------+---------+---------+\n",
      "|AccountID|ClientId|  CutoffDt|PaymentAmt|EnrollmentAmt|   TaxAmt| ClearAmt|\n",
      "+---------+--------+----------+----------+-------------+---------+---------+\n",
      "|     5238|    5238|2020-11-04|       0.0|    1362176.0|      0.0|1362176.0|\n",
      "|     5554|    5554|2020-11-04|       0.0|   1254341.21|      0.0|      0.0|\n",
      "|     5746|    5746|2020-11-04|       0.0|    1259424.8|      0.0|      0.0|\n",
      "|      960|     960|2020-11-04| 1386944.0|          0.0|1386944.0|      0.0|\n",
      "|     5994|    5994|2020-11-04|       0.0|    1388182.4|      0.0|      0.0|\n",
      "|     1104|    1104|2020-11-04| 1391897.6|          0.0|1391897.6|      0.0|\n",
      "|     6170|    6170|2020-11-04|       0.0|    886197.16|      0.0|      0.0|\n",
      "|     1452|    1452|2020-11-04| 1403868.8|          0.0|      0.0|      0.0|\n",
      "|     1544|    1544|2020-11-04| 895635.91|          0.0|895635.91|      0.0|\n",
      "|     1796|    1796|2020-11-04| 902029.91|          0.0|      0.0|      0.0|\n",
      "|     2016|    2016|2020-11-04| 1423270.4|          0.0|1423270.4|      0.0|\n",
      "|     2268|    2268|2020-11-04| 1431939.2|          0.0|      0.0|      0.0|\n",
      "|     7450|    7450|2020-11-04|       0.0|    1304541.6|      0.0|1304541.6|\n",
      "|     3172|    3172|2020-11-04|1323605.04|          0.0|      0.0|      0.0|\n",
      "|     3212|    3212|2020-11-04| 937958.08|          0.0|937958.08|      0.0|\n",
      "|     3264|    3264|2020-11-04| 1466201.6|          0.0|1466201.6|      0.0|\n",
      "|     8690|    8690|2020-11-04|       0.0|    950137.12|      0.0|      0.0|\n",
      "|     8874|    8874|2020-11-04|       0.0|    1487254.4|      0.0|      0.0|\n",
      "|     9066|    9066|2020-11-04|       0.0|    1493859.2|      0.0|      0.0|\n",
      "|     9354|    9354|2020-11-04|       0.0|    1503766.4|      0.0|1503766.4|\n",
      "+---------+--------+----------+----------+-------------+---------+---------+\n",
      "only showing top 20 rows\n",
      "\n"
     ]
    }
   ],
   "source": [
    "corporatePayments.show()"
   ]
  },
  {
   "cell_type": "markdown",
   "id": "f82db9c8",
   "metadata": {},
   "source": [
    "#### Запись витрины corporatePayments в файл формата parquet"
   ]
  },
  {
   "cell_type": "code",
   "execution_count": 30,
   "id": "82e055c4",
   "metadata": {},
   "outputs": [],
   "source": [
    "// Запишем витрину corporate_payments в parquet-файл\n",
    "corporatePayments.write\n",
    "    .format(\"parquet\")\n",
    "    .option(\"path\", \"data_marts/\" + dateMartGeneral + \"/corporate_payments\")\n",
    "    .mode(\"Overwrite\")\n",
    "    .save()"
   ]
  },
  {
   "cell_type": "markdown",
   "id": "d1efa58a",
   "metadata": {},
   "source": [
    " ## 2. Построение витрины данных #2"
   ]
  },
  {
   "cell_type": "code",
   "execution_count": 31,
   "id": "0f27b1c1",
   "metadata": {},
   "outputs": [
    {
     "data": {
      "text/plain": [
       "corporateAccount: org.apache.spark.sql.Dataset[org.apache.spark.sql.Row] = [AccountID: int, AccountNum: string ... 5 more fields]\n"
      ]
     },
     "execution_count": 31,
     "metadata": {},
     "output_type": "execute_result"
    }
   ],
   "source": [
    "val corporateAccount = corporatePayments\n",
    "    .join(dfClients.join(dfAccounts, Seq(\"clientId\"))\n",
    "    .select($\"AccountNum\", $\"AccountID\", $\"DateOpen\", $\"ClientName\"), Seq(\"AccountID\"))\n",
    "    .withColumn(\"TotalAmt\", round($\"PaymentAmt\" + $\"EnrollmentAmt\", 2))\n",
    "    .select($\"AccountID\", $\"AccountNum\", $\"DateOpen\", $\"ClientId\", $\"ClientName\", $\"TotalAmt\", $\"CutoffDt\")\n",
    "    .orderBy($\"AccountID\", $\"CutoffDt\")"
   ]
  },
  {
   "cell_type": "code",
   "execution_count": 32,
   "id": "b0812d14",
   "metadata": {},
   "outputs": [
    {
     "name": "stdout",
     "output_type": "stream",
     "text": [
      "+---------+--------------------+----------+--------+----------+----------+----------+\n",
      "|AccountID|          AccountNum|  DateOpen|ClientId|ClientName|  TotalAmt|  CutoffDt|\n",
      "+---------+--------------------+----------+--------+----------+----------+----------+\n",
      "|        3|40802810300000009708|2020-11-03|       3|  Клиент 3|1110291.49|2020-11-04|\n",
      "|        4|40802810800000030701|2020-11-04|       4|  Клиент 4|1239725.91|2020-11-04|\n",
      "|        7|40702810823620000031|2020-11-03|       7|  Клиент 7| 1698195.2|2020-11-04|\n",
      "|        8|40802810409260005894|2020-11-04|       8|  Клиент 8| 856662.98|2020-11-04|\n",
      "|       11|40702810717060008427|2020-11-03|      11| Клиент 11|1504707.72|2020-11-04|\n",
      "|       12|40702810836260000957|2020-11-04|      12| Клиент 12| 1354332.8|2020-11-04|\n",
      "|       15|40702810200000145891|2020-11-03|      15| Клиент 15|1110595.97|2020-11-04|\n",
      "|       16|40702810400000099734|2020-11-04|      16| Клиент 16|1240043.63|2020-11-04|\n",
      "|       19|40702810400000100092|2020-11-03|      19| Клиент 19| 1698608.0|2020-11-04|\n",
      "|       20|40702810473000000378|2020-11-04|      20| Клиент 20| 856967.46|2020-11-04|\n",
      "|       23|40802810524210000197|2020-11-03|      23| Клиент 23|1505025.45|2020-11-04|\n",
      "|       24|40702810812250000077|2020-11-04|      24| Клиент 24| 1354745.6|2020-11-04|\n",
      "|       27|40802810700000022408|2020-11-03|      27| Клиент 27|1110900.44|2020-11-04|\n",
      "|       28|40802810300000018362|2020-11-04|      28| Клиент 28|1240361.36|2020-11-04|\n",
      "|       31|40702810610650002309|2020-11-03|      31| Клиент 31| 1699020.8|2020-11-04|\n",
      "|       32|40702810400060008556|2020-11-04|      32| Клиент 32| 857271.94|2020-11-04|\n",
      "|       35|40702810900000134555|2020-11-03|      35| Клиент 35|1505343.17|2020-11-04|\n",
      "|       36|40702810900000152139|2020-11-04|      36| Клиент 36| 1355158.4|2020-11-04|\n",
      "|       39|40702810313540006946|2020-11-03|      39| Клиент 39|1111204.92|2020-11-04|\n",
      "|       40|40702810000000113612|2020-11-04|      40| Клиент 40|1240679.08|2020-11-04|\n",
      "+---------+--------------------+----------+--------+----------+----------+----------+\n",
      "only showing top 20 rows\n",
      "\n"
     ]
    }
   ],
   "source": [
    "corporateAccount.show()"
   ]
  },
  {
   "cell_type": "markdown",
   "id": "bbad1678",
   "metadata": {},
   "source": [
    "#### Запись витрины corporate_account в файл формата parquet"
   ]
  },
  {
   "cell_type": "code",
   "execution_count": 33,
   "id": "a4ea99ef",
   "metadata": {},
   "outputs": [],
   "source": [
    "// Запишем витрину в parquet-файл\n",
    "corporateAccount.write\n",
    "    .format(\"parquet\")\n",
    "    .option(\"path\", \"data_marts/\" + dateMartGeneral + \"/corporate_account\")\n",
    "    .mode(\"Overwrite\")\n",
    "    .save()"
   ]
  },
  {
   "cell_type": "markdown",
   "id": "42b8d623",
   "metadata": {},
   "source": [
    " ## 4. Построение витрины данных #3"
   ]
  },
  {
   "cell_type": "code",
   "execution_count": 34,
   "id": "20513920",
   "metadata": {},
   "outputs": [
    {
     "data": {
      "text/plain": [
       "corporateInfo: org.apache.spark.sql.DataFrame = [AccountID: int, AccountNum: string ... 10 more fields]\n"
      ]
     },
     "execution_count": 34,
     "metadata": {},
     "output_type": "execute_result"
    }
   ],
   "source": [
    "val corporateInfo = corporateAccount\n",
    "    .join(dfClients.join(dfAccounts, \"ClientId\")\n",
    "        .select($\"ClientId\".alias(\"Clid\"),\n",
    "                $\"ClientName\".alias(\"ClName\"),\n",
    "                $\"Type\",\n",
    "                $\"Form\",\n",
    "                $\"RegisterDate\"),\n",
    "            $\"Clid\" === $\"ClientId\")"
   ]
  },
  {
   "cell_type": "code",
   "execution_count": 35,
   "id": "c04baa3b",
   "metadata": {},
   "outputs": [
    {
     "name": "stdout",
     "output_type": "stream",
     "text": [
      "+---------+--------------------+----------+--------+-----------+----------+----------+----+-----------+----+----+------------+\n",
      "|AccountID|          AccountNum|  DateOpen|ClientId| ClientName|  TotalAmt|  CutoffDt|Clid|     ClName|Type|Form|RegisterDate|\n",
      "+---------+--------------------+----------+--------+-----------+----------+----------+----+-----------+----+----+------------+\n",
      "|     7628|40702810240420009572|2020-11-04|    7628|Клиент 7628|1050005.24|2020-11-04|7628|Клиент 7628|   Ю|  ИП|  2020-11-01|\n",
      "|     7628|40702810240420009572|2020-11-04|    7628|Клиент 7628|1050005.24|2020-11-04|7628|Клиент 7628|   Ю|  ИП|  2020-11-01|\n",
      "|    15996|40802810403030000247|2020-11-04|    5996|Клиент 5996| 1904182.4|2020-11-04|5996|Клиент 5996|   Ю|  ИП|  2020-11-04|\n",
      "|    15996|40802810403030000247|2020-11-04|    5996|Клиент 5996| 1904182.4|2020-11-04|5996|Клиент 5996|   Ю|  ИП|  2020-11-04|\n",
      "|     3843|40702810416450003609|2020-11-03|    3843|Клиент 3843|1207723.81|2020-11-04|3843|Клиент 3843|   Ф|   -|  2020-11-03|\n",
      "|     3843|40702810416450003609|2020-11-03|    3843|Клиент 3843|1207723.81|2020-11-04|3843|Клиент 3843|   Ф|   -|  2020-11-03|\n",
      "|     9714|40802810900000018500|2020-11-02|    9714|Клиент 9714| 1516150.4|2020-11-04|9714|Клиент 9714|   Ю| ООО|  2020-11-01|\n",
      "|     9714|40802810900000018500|2020-11-02|    9714|Клиент 9714| 1516150.4|2020-11-04|9714|Клиент 9714|   Ю| ООО|  2020-11-01|\n",
      "|     3212|40702810110630002900|2020-11-04|    3212|Клиент 3212| 937958.08|2020-11-04|3212|Клиент 3212|   Ю|  ИП|  2020-11-02|\n",
      "|     3212|40702810110630002900|2020-11-04|    3212|Клиент 3212| 937958.08|2020-11-04|3212|Клиент 3212|   Ю|  ИП|  2020-11-02|\n",
      "|    11334|40702810810570006127|2020-11-02|    1334|Клиент 1334| 1571878.4|2020-11-04|1334|Клиент 1334|   Ю|  АО|  2020-11-04|\n",
      "|    11334|40702810810570006127|2020-11-02|    1334|Клиент 1334| 1571878.4|2020-11-04|1334|Клиент 1334|   Ю|  АО|  2020-11-04|\n",
      "|    19788|40802810922050009233|2020-11-04|    9788|Клиент 9788| 2034627.2|2020-11-04|9788|Клиент 9788|   Ю|  ИП|  2020-11-02|\n",
      "|    19788|40802810922050009233|2020-11-04|    9788|Клиент 9788| 2034627.2|2020-11-04|9788|Клиент 9788|   Ю|  ИП|  2020-11-02|\n",
      "|     5238|40802810747030000178|2020-11-02|    5238|Клиент 5238| 1362176.0|2020-11-04|5238|Клиент 5238|   Ю|  АО|  2020-11-02|\n",
      "|     5238|40802810747030000178|2020-11-02|    5238|Клиент 5238| 1362176.0|2020-11-04|5238|Клиент 5238|   Ю|  АО|  2020-11-02|\n",
      "|     2268|40702810036060002832|2020-11-04|    2268|Клиент 2268| 1431939.2|2020-11-04|2268|Клиент 2268|   Ю|  ИП|  2020-11-03|\n",
      "|     2268|40702810036060002832|2020-11-04|    2268|Клиент 2268| 1431939.2|2020-11-04|2268|Клиент 2268|   Ю|  ИП|  2020-11-03|\n",
      "|    13498|40802810529060019164|2020-11-02|    3498|Клиент 3498| 1464674.5|2020-11-04|3498|Клиент 3498|   Ю| ООО|  2020-11-01|\n",
      "|    13498|40802810529060019164|2020-11-02|    3498|Клиент 3498| 1464674.5|2020-11-04|3498|Клиент 3498|   Ю| ООО|  2020-11-01|\n",
      "+---------+--------------------+----------+--------+-----------+----------+----------+----+-----------+----+----+------------+\n",
      "only showing top 20 rows\n",
      "\n"
     ]
    }
   ],
   "source": [
    "corporateInfo.show()"
   ]
  },
  {
   "cell_type": "markdown",
   "id": "0e388f25",
   "metadata": {},
   "source": [
    "#### Запись витрины corporateInfo в файл формата parquet"
   ]
  },
  {
   "cell_type": "code",
   "execution_count": 36,
   "id": "7b383724",
   "metadata": {},
   "outputs": [],
   "source": [
    "corporateInfo.write\n",
    "    .format(\"parquet\")\n",
    "    .option(\"path\", \"data_marts/\" + dateMartGeneral + \"/corporate_info\")\n",
    "    .mode(\"Overwrite\")\n",
    "    .save()"
   ]
  },
  {
   "cell_type": "code",
   "execution_count": 37,
   "id": "b8e24296",
   "metadata": {},
   "outputs": [],
   "source": [
    "spark.stop"
   ]
  }
 ],
 "metadata": {
  "kernelspec": {
   "display_name": "spylon-kernel",
   "language": "scala",
   "name": "spylon-kernel"
  },
  "language_info": {
   "codemirror_mode": "text/x-scala",
   "file_extension": ".scala",
   "help_links": [
    {
     "text": "MetaKernel Magics",
     "url": "https://metakernel.readthedocs.io/en/latest/source/README.html"
    }
   ],
   "mimetype": "text/x-scala",
   "name": "scala",
   "pygments_lexer": "scala",
   "version": "0.4.1"
  }
 },
 "nbformat": 4,
 "nbformat_minor": 5
}
